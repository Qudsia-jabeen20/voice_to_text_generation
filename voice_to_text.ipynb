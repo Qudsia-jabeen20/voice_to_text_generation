{
  "nbformat": 4,
  "nbformat_minor": 0,
  "metadata": {
    "colab": {
      "provenance": [],
      "authorship_tag": "ABX9TyNaugp/B9nh/2SjX+kIucPl",
      "include_colab_link": true
    },
    "kernelspec": {
      "name": "python3",
      "display_name": "Python 3"
    },
    "language_info": {
      "name": "python"
    }
  },
  "cells": [
    {
      "cell_type": "markdown",
      "metadata": {
        "id": "view-in-github",
        "colab_type": "text"
      },
      "source": [
        "<a href=\"https://colab.research.google.com/github/Qudsia-jabeen20/voice_to_text_generation/blob/main/voice_to_text.ipynb\" target=\"_parent\"><img src=\"https://colab.research.google.com/assets/colab-badge.svg\" alt=\"Open In Colab\"/></a>"
      ]
    },
    {
      "cell_type": "code",
      "source": [
        "!pip install SpeechRecognition\n"
      ],
      "metadata": {
        "id": "ho0XIf6XvhZf"
      },
      "execution_count": null,
      "outputs": []
    },
    {
      "cell_type": "code",
      "source": [
        "!pip install pipwin\n",
        "!pipwin install pyaudio\n"
      ],
      "metadata": {
        "id": "iJ_EjdxGvpPW"
      },
      "execution_count": null,
      "outputs": []
    },
    {
      "cell_type": "code",
      "metadata": {
        "id": "43328a29"
      },
      "source": [
        "!apt-get update\n",
        "!apt-get install -y portaudio19-dev\n",
        "!pip install PyAudio"
      ],
      "execution_count": null,
      "outputs": []
    },
    {
      "cell_type": "code",
      "metadata": {
        "id": "b362982f"
      },
      "source": [
        "import speech_recognition as sr\n",
        "\n",
        "# Initialize recognizer\n",
        "recognizer = sr.Recognizer()\n",
        "\n",
        "# Specify the path to your audio file (replace 'your_audio_file.wav' with the actual path)\n",
        "audio_file_path = '/content/WhatsApp Audio 2025-07-24 at 19.16.36_a3920b4f.waptt (online-audio-converter.com).wav'\n",
        "\n",
        "try:\n",
        "    # Load the audio file\n",
        "    with sr.AudioFile(audio_file_path) as source:\n",
        "        audio = recognizer.record(source)  # read the entire audio file\n",
        "\n",
        "    # Convert speech to text using Google's free API\n",
        "    text = recognizer.recognize_google(audio)\n",
        "    print(\" Text from audio file:\", text)\n",
        "\n",
        "except sr.UnknownValueError:\n",
        "    print(\" Could not understand audio\")\n",
        "except sr.RequestError as e:\n",
        "    print(f\" Could not request results; {e}\")\n",
        "except FileNotFoundError:\n",
        "    print(f\" Audio file not found at: {audio_file_path}\")"
      ],
      "execution_count": null,
      "outputs": []
    }
  ]
}